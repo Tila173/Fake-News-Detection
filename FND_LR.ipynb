{
 "cells": [
  {
   "cell_type": "code",
   "execution_count": 7,
   "id": "3c1880df",
   "metadata": {},
   "outputs": [
    {
     "name": "stderr",
     "output_type": "stream",
     "text": [
      "[nltk_data] Downloading package stopwords to\n",
      "[nltk_data]     C:\\Users\\hp\\AppData\\Roaming\\nltk_data...\n",
      "[nltk_data]   Package stopwords is already up-to-date!\n",
      "[nltk_data] Downloading package punkt to\n",
      "[nltk_data]     C:\\Users\\hp\\AppData\\Roaming\\nltk_data...\n",
      "[nltk_data]   Package punkt is already up-to-date!\n"
     ]
    },
    {
     "name": "stdout",
     "output_type": "stream",
     "text": [
      "Unique Values in the Label Column:\n",
      "[1 0]\n",
      "Accuracy: 84.78802992518703\n",
      "Precision: 82.43992606284658\n",
      "Recall: 83.52059925093633\n"
     ]
    }
   ],
   "source": [
    "import numpy as np\n",
    "import pandas as pd\n",
    "import matplotlib.pyplot as plt\n",
    "import seaborn as sns\n",
    "from sklearn.metrics import confusion_matrix, accuracy_score, precision_score, recall_score\n",
    "from sklearn.feature_extraction.text import TfidfVectorizer\n",
    "from sklearn.linear_model import LogisticRegression\n",
    "from sklearn.model_selection import train_test_split\n",
    "from sklearn.preprocessing import LabelEncoder\n",
    "import nltk\n",
    "from nltk.corpus import stopwords\n",
    "from nltk.tokenize import word_tokenize\n",
    "from nltk.stem.porter import PorterStemmer\n",
    "import string\n",
    "import re\n",
    "\n",
    "def train_and_evaluate_model(x_train, y_train, x_test, y_test):\n",
    "    vectorization = TfidfVectorizer(ngram_range=(1, 3), stop_words='english')\n",
    "    xv_train = vectorization.fit_transform(x_train)\n",
    "    xv_test = vectorization.transform(x_test)\n",
    "\n",
    "    LR = LogisticRegression()\n",
    "    LR.fit(xv_train, y_train)\n",
    "    pred_lr = LR.predict(xv_test)\n",
    "\n",
    "    score1 = accuracy_score(y_test, pred_lr) * 100\n",
    "    precision1 = precision_score(y_test, pred_lr) * 100\n",
    "    recall1 = recall_score(y_test, pred_lr) * 100\n",
    "\n",
    "    return score1, precision1, recall1, LR\n",
    "\n",
    "def preprocess_text(text):\n",
    "    ps = PorterStemmer()\n",
    "    text = text.lower()\n",
    "    text = re.sub(r'https*\\S+', ' ', text)\n",
    "    text = re.sub(r'[@#]\\S+', ' ', text)\n",
    "    text = re.sub('<.*?>', '', text)\n",
    "    \n",
    "    contractions = {\"don't\": 'do not', \"can't\": 'cannot'}\n",
    "    for contraction, expanded in contractions.items():\n",
    "        text = text.replace(contraction, expanded)\n",
    "    \n",
    "    text = re.sub('[%s]' % re.escape(string.punctuation), '', text)\n",
    "    text = re.sub('\\s{2,}', ' ', text)\n",
    "    \n",
    "    words = word_tokenize(text)\n",
    "    words = [ps.stem(word) for word in words if word not in stopwords.words('english')]\n",
    "    text = ' '.join(words)\n",
    "    return text\n",
    "\n",
    "def main():\n",
    "    nltk.download('stopwords')\n",
    "    nltk.download('punkt')\n",
    "\n",
    "    dataset = pd.read_csv(\"E:\\data.csv\")\n",
    "    dataset.drop(columns=[\"URLs\", \"Body\"], inplace=True, axis=1)\n",
    "\n",
    "    # Convert labels to numeric using LabelEncoder\n",
    "    le = LabelEncoder()\n",
    "    dataset[\"Label\"] = le.fit_transform(dataset[\"Label\"])\n",
    "\n",
    "    # Apply preprocessing to the Headline column\n",
    "    dataset[\"Headline\"] = dataset[\"Headline\"].apply(preprocess_text)\n",
    "\n",
    "    x = dataset[\"Headline\"]\n",
    "    y = dataset[\"Label\"]\n",
    "\n",
    "    x_train, x_test, y_train, y_test = train_test_split(x, y, test_size=0.3, random_state=42)\n",
    "\n",
    "    # Debugging: Print unique values in the label column\n",
    "    print(\"Unique Values in the Label Column:\")\n",
    "    print(dataset[\"Label\"].unique())\n",
    "\n",
    "    score1, precision1, recall1, _ = train_and_evaluate_model(x_train, y_train, x_test, y_test)\n",
    "\n",
    "    print(f\"Accuracy: {score1}\")\n",
    "    print(f\"Precision: {precision1}\")\n",
    "    print(f\"Recall: {recall1}\")\n",
    "\n",
    "if __name__ == \"__main__\":\n",
    "    main()\n"
   ]
  },
  {
   "cell_type": "code",
   "execution_count": null,
   "id": "93b07e76",
   "metadata": {},
   "outputs": [],
   "source": []
  }
 ],
 "metadata": {
  "kernelspec": {
   "display_name": "Python 3 (ipykernel)",
   "language": "python",
   "name": "python3"
  },
  "language_info": {
   "codemirror_mode": {
    "name": "ipython",
    "version": 3
   },
   "file_extension": ".py",
   "mimetype": "text/x-python",
   "name": "python",
   "nbconvert_exporter": "python",
   "pygments_lexer": "ipython3",
   "version": "3.11.5"
  }
 },
 "nbformat": 4,
 "nbformat_minor": 5
}
