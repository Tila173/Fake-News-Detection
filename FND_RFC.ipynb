{
 "cells": [
  {
   "cell_type": "code",
   "execution_count": 12,
   "id": "326eb9d6",
   "metadata": {},
   "outputs": [],
   "source": [
    "import numpy as np\n",
    "import pandas as pd\n",
    "import matplotlib.pyplot as plt\n",
    "import seaborn as sns\n",
    "from sklearn.metrics import classification_report, confusion_matrix, accuracy_score, precision_score, recall_score\n",
    "from sklearn.feature_extraction.text import TfidfVectorizer\n",
    "from sklearn.ensemble import RandomForestClassifier\n",
    "from sklearn.model_selection import train_test_split\n",
    "import nltk\n",
    "from nltk.corpus import stopwords\n",
    "from nltk.tokenize import word_tokenize\n",
    "from nltk.stem.porter import PorterStemmer\n",
    "import string\n",
    "import re"
   ]
  },
  {
   "cell_type": "code",
   "execution_count": 13,
   "id": "eb62e45b",
   "metadata": {},
   "outputs": [],
   "source": [
    "dataset = pd.read_csv(\"E:\\data.csv\")"
   ]
  },
  {
   "cell_type": "code",
   "execution_count": 14,
   "id": "72ae4dd7",
   "metadata": {},
   "outputs": [],
   "source": [
    "dataset.drop(columns=[\"URLs\", \"Body\"],inplace=True, axis=0)"
   ]
  },
  {
   "cell_type": "code",
   "execution_count": 15,
   "id": "82548285",
   "metadata": {},
   "outputs": [
    {
     "name": "stderr",
     "output_type": "stream",
     "text": [
      "[nltk_data] Downloading package stopwords to\n",
      "[nltk_data]     C:\\Users\\hp\\AppData\\Roaming\\nltk_data...\n",
      "[nltk_data]   Package stopwords is already up-to-date!\n",
      "[nltk_data] Downloading package punkt to\n",
      "[nltk_data]     C:\\Users\\hp\\AppData\\Roaming\\nltk_data...\n",
      "[nltk_data]   Package punkt is already up-to-date!\n"
     ]
    },
    {
     "data": {
      "text/plain": [
       "True"
      ]
     },
     "execution_count": 15,
     "metadata": {},
     "output_type": "execute_result"
    }
   ],
   "source": [
    "import nltk\n",
    "nltk.download('stopwords')\n",
    "nltk.download('punkt')"
   ]
  },
  {
   "cell_type": "code",
   "execution_count": 16,
   "id": "23dff623",
   "metadata": {},
   "outputs": [],
   "source": [
    "ps = PorterStemmer()\n",
    "\n",
    "def wordopt(text):\n",
    "    text = text.lower()\n",
    "    text = re.sub(r'https*\\S+', ' ', text)\n",
    "    text = re.sub(r'[@#]\\S+', ' ', text)\n",
    "    text = re.sub('<.*?>', '', text)\n",
    "    contractions = {\"don't\": 'do not', \"can't\": 'cannot'}\n",
    "    for contraction, expanded in contractions.items():\n",
    "        text = text.replace(contraction, expanded)\n",
    "    text = re.sub('[%s]' % re.escape(string.punctuation), '', text)\n",
    "    text = re.sub('\\s{2,}', ' ', text)\n",
    "    words = word_tokenize(text)\n",
    "    words = [ps.stem(word) for word in words if word not in stopwords.words('english')]\n",
    "    text = ' '.join(words)\n",
    "    return text\n"
   ]
  },
  {
   "cell_type": "code",
   "execution_count": 17,
   "id": "2fb93c40",
   "metadata": {},
   "outputs": [],
   "source": [
    "dataset[\"Headline\"] = dataset[\"Headline\"].apply(wordopt)\n",
    "dataset.shape\n",
    "x = dataset[\"Headline\"]\n",
    "y = dataset[\"Label\"]\n"
   ]
  },
  {
   "cell_type": "code",
   "execution_count": 18,
   "id": "d513d8ed",
   "metadata": {},
   "outputs": [
    {
     "data": {
      "image/png": "[encoded data removed]",
      "text/plain": [
       "<Figure size 500x400 with 1 Axes>"
      ]
     },
     "metadata": {},
     "output_type": "display_data"
    }
   ],
   "source": [
    "plt.figure(figsize=(5, 4))\n",
    "#sns.countplot(x='Label', data=dataset)\n",
    "ax = sns.countplot(x='Label', data=dataset)\n",
    "#legend_labels, _= ax.get_legend_handles_labels('Fake (0)', 'True (1)')\n",
    "ax.legend(labels=['Fake (0)', 'True (1)'],bbox_to_anchor=(1.3,1),ncol = 3)\n",
    "\n",
    "#plt.legend(['Fake (0)', 'True (1)'],loc=\"center\",bbox_to_anchor=(1.15,1),ncol = 3)\n",
    "plt.title(\"Distribution of Labels\")\n",
    "plt.xlabel(\"Labels\")\n",
    "plt.ylabel(\"Headlines\")\n",
    "plt.show()"
   ]
  },
  {
   "cell_type": "code",
   "execution_count": 19,
   "id": "29a916b5",
   "metadata": {},
   "outputs": [],
   "source": [
    "from sklearn.model_selection import train_test_split\n",
    "x_train, x_test, y_train, y_test = train_test_split(x, y, test_size=0.3,random_state = 42)"
   ]
  },
  {
   "cell_type": "code",
   "execution_count": 56,
   "id": "98bc2ab2",
   "metadata": {},
   "outputs": [],
   "source": [
    "vectorization = TfidfVectorizer(ngram_range=(1,2), stop_words='english')\n",
    "xv_train = vectorization.fit_transform(x_train)\n",
    "xv_test = vectorization.transform(x_test)\n"
   ]
  },
  {
   "cell_type": "code",
   "execution_count": 152,
   "id": "4cecfeac",
   "metadata": {},
   "outputs": [],
   "source": [
    "RFC = RandomForestClassifier(n_estimators=100, criterion='log_loss', random_state = 12)\n",
    "RFC.fit(xv_train, y_train)\n",
    "RFC.score(xv_test,y_test)\n",
    "pred_rfc=RFC.predict(xv_test) #this function is used to make prediction."
   ]
  },
  {
   "cell_type": "code",
   "execution_count": 153,
   "id": "c805a3df",
   "metadata": {},
   "outputs": [
    {
     "data": {
      "text/plain": [
       "83.0423940149626"
      ]
     },
     "execution_count": 153,
     "metadata": {},
     "output_type": "execute_result"
    }
   ],
   "source": [
    "score1 = accuracy_score(y_test,pred_rfc)*100\n",
    "score1\n"
   ]
  },
  {
   "cell_type": "code",
   "execution_count": 154,
   "id": "f48ad711",
   "metadata": {},
   "outputs": [
    {
     "data": {
      "text/plain": [
       "86.02620087336244"
      ]
     },
     "execution_count": 154,
     "metadata": {},
     "output_type": "execute_result"
    }
   ],
   "source": [
    "precision1 = precision_score(y_test, pred_rfc)*100\n",
    "precision1"
   ]
  },
  {
   "cell_type": "code",
   "execution_count": 155,
   "id": "794bf384",
   "metadata": {},
   "outputs": [
    {
     "data": {
      "text/plain": [
       "73.78277153558052"
      ]
     },
     "execution_count": 155,
     "metadata": {},
     "output_type": "execute_result"
    }
   ],
   "source": [
    "recall1 = recall_score(y_test, pred_rfc)*100\n",
    "recall1"
   ]
  },
  {
   "cell_type": "code",
   "execution_count": 156,
   "id": "654b2f2d",
   "metadata": {},
   "outputs": [
    {
     "name": "stdout",
     "output_type": "stream",
     "text": [
      "+-------------+------------------+-------------------+----------------+\n",
      "| Classifiers | Average Accuracy | Average Precision | Average Recall |\n",
      "+=============+==================+===================+================+\n",
      "| RFC         | 83.042           | 86.026            | 73.783         |\n",
      "+-------------+------------------+-------------------+----------------+\n"
     ]
    }
   ],
   "source": [
    "from texttable import Texttable\n",
    "Data = [[\"Classifiers\", \"Average Accuracy\", \"Average Precision\",\"Average Recall\"], [\"RFC\", score1,precision1,recall1]]\n",
    "table = Texttable()\n",
    "table.add_rows(Data)\n",
    "print(table.draw())"
   ]
  },
  {
   "cell_type": "code",
   "execution_count": 157,
   "id": "3b7a6c02",
   "metadata": {},
   "outputs": [
    {
     "data": {
      "image/png": "[encoded data removed]",
      "text/plain": [
       "<Figure size 600x600 with 1 Axes>"
      ]
     },
     "metadata": {},
     "output_type": "display_data"
    }
   ],
   "source": [
    "scores = [score1]\n",
    "precision = [precision1]\n",
    "recall = [recall1]\n",
    "models = [\"Model1\"]\n",
    "ind = np.arange(len(models))  \n",
    "width = 0.1800 \n",
    "\n",
    "fig, ax = plt.subplots(figsize=(6, 6))\n",
    "\n",
    "\n",
    "rects1 = ax.bar(ind-0.25, scores, width, color='blue', label='Accuracy')\n",
    "rects2 = ax.bar(ind, precision, width, color='green', label='Precision')\n",
    "rects3 = ax.bar(ind + 0.25, recall, width, color='red', label='Recall')\n",
    "\n",
    "# Add some text for labels, title, and axes ticks\n",
    "ax.set_ylabel('Scores')\n",
    "#ax.set_xlabel('Model')\n",
    "ax.set_title('Evaluated Results of Fake News')\n",
    "ax.set_xticks(ind)\n",
    "ax.set_xticklabels(models)\n",
    "\n",
    "\n",
    "ax.legend([\"Accuracy\", \"Precision\", \"Recall\"],bbox_to_anchor =(1, 1.01), ncol = 1)\n",
    "\n",
    "\n",
    "# Function to add labels on top of the bars\n",
    "def autolabel(rects):\n",
    "    for rect in rects:\n",
    "        height = rect.get_height()\n",
    "        ax.annotate('{}'.format(round(height, 2)),\n",
    "                    xy=(rect.get_x() + rect.get_width() / 2, 1.0*height),\n",
    "                    xytext=(0, 3),  \n",
    "                    textcoords=\"offset points\",\n",
    "                    ha='center', va='bottom')\n",
    "               \n",
    "\n",
    "autolabel(rects1)\n",
    "autolabel(rects2)\n",
    "autolabel(rects3)\n",
    "\n",
    "plt.show()\n"
   ]
  },
  {
   "cell_type": "code",
   "execution_count": 158,
   "id": "d328b2cf",
   "metadata": {},
   "outputs": [
    {
     "data": {
      "image/png": "[encoded data removed]",
      "text/plain": [
       "<Figure size 800x600 with 2 Axes>"
      ]
     },
     "metadata": {},
     "output_type": "display_data"
    }
   ],
   "source": [
    "report = classification_report(y_test, pred_rfc)\n",
    "report\n",
    "cm = confusion_matrix(y_test, pred_rfc)\n",
    "plt.figure(figsize=(8, 6))\n",
    "sns.heatmap(cm, annot=True, fmt=\"d\", cmap=\"Blues\")\n",
    "plt.title('Confusion Matrix')\n",
    "plt.xlabel('Predicted')\n",
    "plt.ylabel('Actual')\n",
    "plt.show()"
   ]
  },
  {
   "cell_type": "code",
   "execution_count": null,
   "id": "23bcfb0a",
   "metadata": {},
   "outputs": [],
   "source": []
  }
 ],
 "metadata": {
  "kernelspec": {
   "display_name": "Python 3 (ipykernel)",
   "language": "python",
   "name": "python3"
  },
  "language_info": {
   "codemirror_mode": {
    "name": "ipython",
    "version": 3
   },
   "file_extension": ".py",
   "mimetype": "text/x-python",
   "name": "python",
   "nbconvert_exporter": "python",
   "pygments_lexer": "ipython3",
   "version": "3.11.5"
  }
 },
 "nbformat": 4,
 "nbformat_minor": 5
}
