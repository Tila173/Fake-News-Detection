{
 "cells": [
  {
   "cell_type": "code",
   "execution_count": 1,
   "id": "f0fce592",
   "metadata": {},
   "outputs": [],
   "source": [
    "from sklearn.ensemble import GradientBoostingClassifier\n",
    "import numpy as np\n",
    "import pandas as pd\n",
    "import matplotlib.pyplot as plt\n",
    "import seaborn as sns\n",
    "from sklearn.metrics import classification_report, confusion_matrix, accuracy_score, precision_score, recall_score\n",
    "from sklearn.feature_extraction.text import TfidfVectorizer\n",
    "from sklearn.model_selection import train_test_split\n",
    "import nltk\n",
    "from nltk.corpus import stopwords\n",
    "from nltk.tokenize import word_tokenize\n",
    "from nltk.stem.porter import PorterStemmer\n",
    "import string\n",
    "import re"
   ]
  },
  {
   "cell_type": "code",
   "execution_count": 2,
   "id": "327c3dd0",
   "metadata": {},
   "outputs": [
    {
     "data": {
      "text/html": [
       "<div>\n",
       "<style scoped>\n",
       "    .dataframe tbody tr th:only-of-type {\n",
       "        vertical-align: middle;\n",
       "    }\n",
       "\n",
       "    .dataframe tbody tr th {\n",
       "        vertical-align: top;\n",
       "    }\n",
       "\n",
       "    .dataframe thead th {\n",
       "        text-align: right;\n",
       "    }\n",
       "</style>\n",
       "<table border=\"1\" class=\"dataframe\">\n",
       "  <thead>\n",
       "    <tr style=\"text-align: right;\">\n",
       "      <th></th>\n",
       "      <th>URLs</th>\n",
       "      <th>Headline</th>\n",
       "      <th>Body</th>\n",
       "      <th>Label</th>\n",
       "    </tr>\n",
       "  </thead>\n",
       "  <tbody>\n",
       "    <tr>\n",
       "      <th>0</th>\n",
       "      <td>http://www.bbc.com/news/world-us-canada-414191...</td>\n",
       "      <td>Four ways Bob Corker skewered Donald Trump</td>\n",
       "      <td>Image copyright Getty Images\\nOn Sunday mornin...</td>\n",
       "      <td>1</td>\n",
       "    </tr>\n",
       "    <tr>\n",
       "      <th>1</th>\n",
       "      <td>https://www.reuters.com/article/us-filmfestiva...</td>\n",
       "      <td>Linklater's war veteran comedy speaks to moder...</td>\n",
       "      <td>LONDON (Reuters) - “Last Flag Flying”, a comed...</td>\n",
       "      <td>1</td>\n",
       "    </tr>\n",
       "    <tr>\n",
       "      <th>2</th>\n",
       "      <td>https://www.nytimes.com/2017/10/09/us/politics...</td>\n",
       "      <td>Trump’s Fight With Corker Jeopardizes His Legi...</td>\n",
       "      <td>The feud broke into public view last week when...</td>\n",
       "      <td>1</td>\n",
       "    </tr>\n",
       "    <tr>\n",
       "      <th>3</th>\n",
       "      <td>https://www.reuters.com/article/us-mexico-oil-...</td>\n",
       "      <td>Egypt's Cheiron wins tie-up with Pemex for Mex...</td>\n",
       "      <td>MEXICO CITY (Reuters) - Egypt’s Cheiron Holdin...</td>\n",
       "      <td>1</td>\n",
       "    </tr>\n",
       "    <tr>\n",
       "      <th>4</th>\n",
       "      <td>http://www.cnn.com/videos/cnnmoney/2017/10/08/...</td>\n",
       "      <td>Jason Aldean opens 'SNL' with Vegas tribute</td>\n",
       "      <td>Country singer Jason Aldean, who was performin...</td>\n",
       "      <td>1</td>\n",
       "    </tr>\n",
       "  </tbody>\n",
       "</table>\n",
       "</div>"
      ],
      "text/plain": [
       "                                                URLs  \\\n",
       "0  http://www.bbc.com/news/world-us-canada-414191...   \n",
       "1  https://www.reuters.com/article/us-filmfestiva...   \n",
       "2  https://www.nytimes.com/2017/10/09/us/politics...   \n",
       "3  https://www.reuters.com/article/us-mexico-oil-...   \n",
       "4  http://www.cnn.com/videos/cnnmoney/2017/10/08/...   \n",
       "\n",
       "                                            Headline  \\\n",
       "0         Four ways Bob Corker skewered Donald Trump   \n",
       "1  Linklater's war veteran comedy speaks to moder...   \n",
       "2  Trump’s Fight With Corker Jeopardizes His Legi...   \n",
       "3  Egypt's Cheiron wins tie-up with Pemex for Mex...   \n",
       "4        Jason Aldean opens 'SNL' with Vegas tribute   \n",
       "\n",
       "                                                Body  Label  \n",
       "0  Image copyright Getty Images\\nOn Sunday mornin...      1  \n",
       "1  LONDON (Reuters) - “Last Flag Flying”, a comed...      1  \n",
       "2  The feud broke into public view last week when...      1  \n",
       "3  MEXICO CITY (Reuters) - Egypt’s Cheiron Holdin...      1  \n",
       "4  Country singer Jason Aldean, who was performin...      1  "
      ]
     },
     "execution_count": 2,
     "metadata": {},
     "output_type": "execute_result"
    }
   ],
   "source": [
    "dataset = pd.read_csv(\"E:\\data.csv\")\n",
    "dataset.head()"
   ]
  },
  {
   "cell_type": "code",
   "execution_count": 3,
   "id": "0f924be8",
   "metadata": {},
   "outputs": [
    {
     "data": {
      "text/plain": [
       "URLs         0\n",
       "Headline     0\n",
       "Body        21\n",
       "Label        0\n",
       "dtype: int64"
      ]
     },
     "execution_count": 3,
     "metadata": {},
     "output_type": "execute_result"
    }
   ],
   "source": [
    "dataset.isnull().sum()"
   ]
  },
  {
   "cell_type": "code",
   "execution_count": 4,
   "id": "5fe11418",
   "metadata": {},
   "outputs": [],
   "source": [
    "dataset.drop(columns=[\"URLs\", \"Body\"],inplace=True, axis=0)"
   ]
  },
  {
   "cell_type": "code",
   "execution_count": 5,
   "id": "996c3e63",
   "metadata": {},
   "outputs": [
    {
     "data": {
      "text/plain": [
       "Headline    0\n",
       "Label       0\n",
       "dtype: int64"
      ]
     },
     "execution_count": 5,
     "metadata": {},
     "output_type": "execute_result"
    }
   ],
   "source": [
    "dataset.isnull().sum()"
   ]
  },
  {
   "cell_type": "code",
   "execution_count": 6,
   "id": "2a046711",
   "metadata": {},
   "outputs": [
    {
     "name": "stderr",
     "output_type": "stream",
     "text": [
      "[nltk_data] Downloading package stopwords to\n",
      "[nltk_data]     C:\\Users\\hp\\AppData\\Roaming\\nltk_data...\n",
      "[nltk_data]   Package stopwords is already up-to-date!\n",
      "[nltk_data] Downloading package punkt to\n",
      "[nltk_data]     C:\\Users\\hp\\AppData\\Roaming\\nltk_data...\n",
      "[nltk_data]   Package punkt is already up-to-date!\n"
     ]
    },
    {
     "data": {
      "text/plain": [
       "True"
      ]
     },
     "execution_count": 6,
     "metadata": {},
     "output_type": "execute_result"
    }
   ],
   "source": [
    "nltk.download('stopwords')\n",
    "nltk.download('punkt')"
   ]
  },
  {
   "cell_type": "code",
   "execution_count": 7,
   "id": "11cafc21",
   "metadata": {},
   "outputs": [],
   "source": [
    "ps = PorterStemmer()\n",
    "\n",
    "def wordopt(text):\n",
    "    text = text.lower()\n",
    "    text = re.sub(r'https*\\S+', ' ', text)\n",
    "    text = re.sub(r'[@#]\\S+', ' ', text)\n",
    "    text = re.sub('<.*?>', '', text)\n",
    "    contractions = {\"don't\": 'do not', \"can't\": 'cannot'}\n",
    "    for contraction, expanded in contractions.items():\n",
    "        text = text.replace(contraction, expanded)\n",
    "    text = re.sub('[%s]' % re.escape(string.punctuation), '', text)\n",
    "    text = re.sub('\\s{2,}', ' ', text)\n",
    "    words = word_tokenize(text)\n",
    "    words = [ps.stem(word) for word in words if word not in stopwords.words('english')]\n",
    "    text = ' '.join(words)\n",
    "    return text\n"
   ]
  },
  {
   "cell_type": "code",
   "execution_count": 8,
   "id": "1ec9f026",
   "metadata": {},
   "outputs": [
    {
     "data": {
      "text/plain": [
       "(4009, 2)"
      ]
     },
     "execution_count": 8,
     "metadata": {},
     "output_type": "execute_result"
    }
   ],
   "source": [
    "dataset[\"Headline\"] = dataset[\"Headline\"].apply(wordopt)\n",
    "dataset.shape"
   ]
  },
  {
   "cell_type": "code",
   "execution_count": 9,
   "id": "513fef68",
   "metadata": {},
   "outputs": [
    {
     "data": {
      "text/plain": [
       "0                 four way bob corker skewer donald trump\n",
       "1       linklat war veteran comedi speak modern americ...\n",
       "2              trump ’ fight corker jeopard legisl agenda\n",
       "3       egypt cheiron win tieup pemex mexican onshor o...\n",
       "4                       jason aldean open snl vega tribut\n",
       "                              ...                        \n",
       "4004                                          trend watch\n",
       "4005             trump jr soon give 30minut speech 100000\n",
       "4006                       ron paul trump anarch altright\n",
       "4007    china accept oversea trial data bid speed drug...\n",
       "4008    vice presid mike penc leav nfl game antiameric...\n",
       "Name: Headline, Length: 4009, dtype: object"
      ]
     },
     "execution_count": 9,
     "metadata": {},
     "output_type": "execute_result"
    }
   ],
   "source": [
    "dataset[\"Headline\"]"
   ]
  },
  {
   "cell_type": "code",
   "execution_count": 10,
   "id": "393b5aba",
   "metadata": {},
   "outputs": [
    {
     "name": "stdout",
     "output_type": "stream",
     "text": [
      "Vocabulary Size: 2830\n"
     ]
    }
   ],
   "source": [
    "vocab_size = len(set(dataset[\"Headline\"]))\n",
    "print(\"Vocabulary Size:\", vocab_size)"
   ]
  },
  {
   "cell_type": "code",
   "execution_count": 11,
   "id": "e92fb0fb",
   "metadata": {},
   "outputs": [],
   "source": [
    "x = dataset[\"Headline\"]\n",
    "y = dataset[\"Label\"]"
   ]
  },
  {
   "cell_type": "code",
   "execution_count": 12,
   "id": "c9e0ffcd",
   "metadata": {},
   "outputs": [
    {
     "data": {
      "image/png": "[encoded data removed]",
      "text/plain": [
       "<Figure size 640x480 with 1 Axes>"
      ]
     },
     "metadata": {},
     "output_type": "display_data"
    }
   ],
   "source": [
    "# Get label counts\n",
    "type_counts = dataset['Label'].value_counts()\n",
    "colors = ['yellow', 'DodgerBlue']\n",
    "explode = (0.04, 0.02) \n",
    "type_counts.plot(kind='pie', autopct='%1.2f%%', labels=type_counts.index, colors=colors, shadow=True, explode=explode)\n",
    "plt.title('Distribution of Fake News')\n",
    "plt.legend(labels=['Fake', 'Real'])\n",
    "plt.show()"
   ]
  },
  {
   "cell_type": "code",
   "execution_count": 13,
   "id": "d053948c",
   "metadata": {},
   "outputs": [],
   "source": [
    "from sklearn.model_selection import train_test_split\n",
    "x_train, x_test, y_train, y_test = train_test_split(x, y, test_size=0.3,random_state = 42)"
   ]
  },
  {
   "cell_type": "code",
   "execution_count": 14,
   "id": "b7b65f4f",
   "metadata": {},
   "outputs": [],
   "source": [
    "vectorization = TfidfVectorizer(ngram_range=(1,3), stop_words='english')\n",
    "xv_train = vectorization.fit_transform(x_train)\n",
    "xv_test = vectorization.transform(x_test)\n"
   ]
  },
  {
   "cell_type": "code",
   "execution_count": 58,
   "id": "437a30b4",
   "metadata": {},
   "outputs": [],
   "source": [
    "GBC = GradientBoostingClassifier(loss='exponential', learning_rate=0.2,n_estimators=104,criterion='squared_error',random_state = 42)\n",
    "GBC.fit(xv_train, y_train)\n",
    "GBC.score(xv_test,y_test)\n",
    "pred_gb=GBC.predict(xv_test) #this function is used to make prediction."
   ]
  },
  {
   "cell_type": "code",
   "execution_count": 59,
   "id": "8aa9bea8",
   "metadata": {},
   "outputs": [
    {
     "data": {
      "text/plain": [
       "77.47298420615128"
      ]
     },
     "execution_count": 59,
     "metadata": {},
     "output_type": "execute_result"
    }
   ],
   "source": [
    "score1 = accuracy_score(y_test,pred_gb)*100\n",
    "score1"
   ]
  },
  {
   "cell_type": "code",
   "execution_count": 60,
   "id": "420386c3",
   "metadata": {},
   "outputs": [
    {
     "data": {
      "text/plain": [
       "83.80462724935732"
      ]
     },
     "execution_count": 60,
     "metadata": {},
     "output_type": "execute_result"
    }
   ],
   "source": [
    "precision1 = precision_score(y_test, pred_gb)*100\n",
    "precision1"
   ]
  },
  {
   "cell_type": "code",
   "execution_count": 61,
   "id": "5b00454f",
   "metadata": {},
   "outputs": [
    {
     "data": {
      "text/plain": [
       "61.04868913857678"
      ]
     },
     "execution_count": 61,
     "metadata": {},
     "output_type": "execute_result"
    }
   ],
   "source": [
    "recall1 = recall_score(y_test, pred_gb)*100\n",
    "recall1"
   ]
  },
  {
   "cell_type": "code",
   "execution_count": 62,
   "id": "91567ff7",
   "metadata": {},
   "outputs": [
    {
     "name": "stdout",
     "output_type": "stream",
     "text": [
      "+-------------+------------------+-------------------+----------------+\n",
      "| Classifiers | Average Accuracy | Average Precision | Average Recall |\n",
      "+=============+==================+===================+================+\n",
      "| GBC         | 77.473           | 83.805            | 61.049         |\n",
      "+-------------+------------------+-------------------+----------------+\n"
     ]
    }
   ],
   "source": [
    "from texttable import Texttable\n",
    "Data = [[\"Classifiers\", \"Average Accuracy\", \"Average Precision\",\"Average Recall\"], [\"GBC\", score1,precision1,recall1]]\n",
    "table = Texttable()\n",
    "table.add_rows(Data)\n",
    "print(table.draw())"
   ]
  },
  {
   "cell_type": "code",
   "execution_count": 63,
   "id": "5f98fa9f",
   "metadata": {},
   "outputs": [
    {
     "data": {
      "image/png": "[encoded data removed]",
      "text/plain": [
       "<Figure size 600x600 with 1 Axes>"
      ]
     },
     "metadata": {},
     "output_type": "display_data"
    }
   ],
   "source": [
    "scores = [score1]\n",
    "precision = [precision1]\n",
    "recall = [recall1]\n",
    "models = [\"Model1\"]\n",
    "ind = np.arange(len(models))  \n",
    "width = 0.1800 \n",
    "\n",
    "fig, ax = plt.subplots(figsize=(6, 6))\n",
    "\n",
    "\n",
    "rects1 = ax.bar(ind-0.25, scores, width, color='blue', label='Accuracy')\n",
    "rects2 = ax.bar(ind, precision, width, color='green', label='Precision')\n",
    "rects3 = ax.bar(ind + 0.25, recall, width, color='red', label='Recall')\n",
    "\n",
    "# Add some text for labels, title, and axes ticks\n",
    "ax.set_ylabel('Scores')\n",
    "#ax.set_xlabel('Model')\n",
    "ax.set_title('Evaluated Results of Fake News')\n",
    "ax.set_xticks(ind)\n",
    "ax.set_xticklabels(models)\n",
    "\n",
    "\n",
    "ax.legend([\"Accuracy\", \"Precision\", \"Recall\"],bbox_to_anchor =(1.27, 1.026), ncol = 1)\n",
    "\n",
    "\n",
    "# Function to add labels on top of the bars\n",
    "def autolabel(rects):\n",
    "    for rect in rects:\n",
    "        height = rect.get_height()\n",
    "        ax.annotate('{}'.format(round(height, 2)),\n",
    "                    xy=(rect.get_x() + rect.get_width() / 2, 1.0*height),\n",
    "                    xytext=(0, 3),  \n",
    "                    textcoords=\"offset points\",\n",
    "                    ha='center', va='bottom')\n",
    "               \n",
    "\n",
    "autolabel(rects1)\n",
    "autolabel(rects2)\n",
    "autolabel(rects3)\n",
    "\n",
    "plt.show()\n"
   ]
  },
  {
   "cell_type": "code",
   "execution_count": 64,
   "id": "e497f9a2",
   "metadata": {},
   "outputs": [
    {
     "data": {
      "image/png": "[encoded data removed]",
      "text/plain": [
       "<Figure size 800x600 with 2 Axes>"
      ]
     },
     "metadata": {},
     "output_type": "display_data"
    }
   ],
   "source": [
    "report = classification_report(y_test, pred_gb)\n",
    "report\n",
    "cm = confusion_matrix(y_test, pred_gb)\n",
    "plt.figure(figsize=(8, 6))\n",
    "sns.heatmap(cm, annot=True, fmt=\"d\", cmap=\"Blues\")\n",
    "plt.title('Confusion Matrix')\n",
    "plt.xlabel('Predicted')\n",
    "plt.ylabel('Actual')\n",
    "plt.show()"
   ]
  }
 ],
 "metadata": {
  "kernelspec": {
   "display_name": "Python 3 (ipykernel)",
   "language": "python",
   "name": "python3"
  },
  "language_info": {
   "codemirror_mode": {
    "name": "ipython",
    "version": 3
   },
   "file_extension": ".py",
   "mimetype": "text/x-python",
   "name": "python",
   "nbconvert_exporter": "python",
   "pygments_lexer": "ipython3",
   "version": "3.11.5"
  }
 },
 "nbformat": 4,
 "nbformat_minor": 5
}
